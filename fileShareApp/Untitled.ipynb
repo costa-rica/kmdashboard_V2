{
 "cells": [
  {
   "cell_type": "code",
   "execution_count": null,
   "id": "7a92e045",
   "metadata": {},
   "outputs": [],
   "source": [
    "from fileShareApp import create_app, db\n",
    "from dmrApp.models import Dmrs, Employees, Employeeroles, Post, Restaurants, Shifts, \\\n",
    "    User, Standardwages\n",
    "proxyApp=create_app()\n",
    "ctx=proxyApp.app_context()\n",
    "ctx.push()"
   ]
  }
 ],
 "metadata": {
  "kernelspec": {
   "display_name": "Python 3",
   "language": "python",
   "name": "python3"
  },
  "language_info": {
   "codemirror_mode": {
    "name": "ipython",
    "version": 3
   },
   "file_extension": ".py",
   "mimetype": "text/x-python",
   "name": "python",
   "nbconvert_exporter": "python",
   "pygments_lexer": "ipython3",
   "version": "3.9.4"
  }
 },
 "nbformat": 4,
 "nbformat_minor": 5
}
